{
 "cells": [
  {
   "cell_type": "code",
   "execution_count": 1,
   "id": "b1d7e63b",
   "metadata": {},
   "outputs": [],
   "source": [
    "import os"
   ]
  },
  {
   "cell_type": "code",
   "execution_count": 50,
   "id": "05e6c6ca",
   "metadata": {},
   "outputs": [],
   "source": [
    "dest = \"\"\n",
    "def rename_in_folder(foldername):\n",
    "    for filename in os.listdir(foldername):\n",
    "        #print(filename)\n",
    "        dest = filename.replace(\"-\", \"\")\n",
    "        dest = dest.replace(\",\", \"\")\n",
    "        dest = dest.replace(\"'\", \"\")\n",
    "        dest = dest.replace(\"Vassily\", \"\")\n",
    "        dest = dest.replace(\"Vasily\", \"\")\n",
    "        dest = dest.replace(\"Wassily\", \"\")\n",
    "        dest = dest.replace(\"Kandinsky\", \"\")\n",
    "        dest = dest.replace(\"kandinsky\", \"\")\n",
    "        dest = dest.replace(\"Василий\", \"\")\n",
    "        dest = dest.replace(\"Васильевич\", \"\")\n",
    "        dest = dest.replace(\"Кандинский\", \"\")\n",
    "        dest = dest.replace(\"by\", \"\")\n",
    "        dest = dest.replace(foldername, \"\")\n",
    "        dest = dest.replace(\"_\", \"\")\n",
    "        #print(dest)\n",
    "        dest = foldername + \"/\" + dest\n",
    "        scr = foldername + \"/\" + filename\n",
    "        os.rename(scr, dest)"
   ]
  },
  {
   "cell_type": "code",
   "execution_count": 51,
   "id": "e5719aa2",
   "metadata": {},
   "outputs": [],
   "source": [
    "foldername = \"1927\"\n",
    "rename_in_folder(foldername)"
   ]
  },
  {
   "cell_type": "code",
   "execution_count": 53,
   "id": "5fe7ed28",
   "metadata": {},
   "outputs": [],
   "source": [
    "for year in range (1919, 1945):\n",
    "    rename_in_folder(str(year))"
   ]
  }
 ],
 "metadata": {
  "kernelspec": {
   "display_name": "Python 3 (ipykernel)",
   "language": "python",
   "name": "python3"
  },
  "language_info": {
   "codemirror_mode": {
    "name": "ipython",
    "version": 3
   },
   "file_extension": ".py",
   "mimetype": "text/x-python",
   "name": "python",
   "nbconvert_exporter": "python",
   "pygments_lexer": "ipython3",
   "version": "3.10.2"
  }
 },
 "nbformat": 4,
 "nbformat_minor": 5
}
