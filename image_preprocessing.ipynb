{
 "cells": [
  {
   "cell_type": "code",
   "execution_count": null,
   "id": "b7807e17",
   "metadata": {},
   "outputs": [],
   "source": [
    "#pip install Pillow"
   ]
  },
  {
   "cell_type": "code",
   "execution_count": 2,
   "id": "0cbe30fc",
   "metadata": {},
   "outputs": [],
   "source": [
    "from PIL import Image\n",
    "im = Image.open(\"raw_data/1919/Painting_with_Points.jpg\")\n"
   ]
  },
  {
   "cell_type": "code",
   "execution_count": 3,
   "id": "59b79084",
   "metadata": {},
   "outputs": [
    {
     "name": "stdout",
     "output_type": "stream",
     "text": [
      "JPEG (449, 600) RGB\n"
     ]
    }
   ],
   "source": [
    "print(im.format, im.size, im.mode)"
   ]
  },
  {
   "cell_type": "code",
   "execution_count": 28,
   "id": "647f9b35",
   "metadata": {},
   "outputs": [],
   "source": [
    "size_dict = {\n",
    "    \"XXtiny\": 32,\n",
    "    \"Xtiny\": 64,\n",
    "    \"tiny\": 128,\n",
    "    \"small\": 256,\n",
    "    \"medium\": 512,\n",
    "    \"large\": 1024,\n",
    "    \"huge\": 2048\n",
    "}"
   ]
  },
  {
   "cell_type": "code",
   "execution_count": 7,
   "id": "fe163df5",
   "metadata": {},
   "outputs": [],
   "source": [
    "def squarify(image):\n",
    "    width, height = image.size\n",
    "    if width == height:\n",
    "        return image\n",
    "    else:\n",
    "        newsize = max(width, height)\n",
    "        result = Image.new(\"RGB\", (newsize, newsize))\n",
    "        result.paste(image)\n",
    "        return result"
   ]
  },
  {
   "cell_type": "code",
   "execution_count": 10,
   "id": "9b82f041",
   "metadata": {},
   "outputs": [],
   "source": [
    "im_new = squarify(im).resize((128, 128))\n",
    "im_new.save(\"data/tiny/Painting_with_points_1919.jpg\")"
   ]
  },
  {
   "cell_type": "code",
   "execution_count": null,
   "id": "78a76f6c",
   "metadata": {},
   "outputs": [],
   "source": []
  },
  {
   "cell_type": "code",
   "execution_count": 15,
   "id": "d1c82a66",
   "metadata": {},
   "outputs": [],
   "source": [
    "import os\n",
    "import glob"
   ]
  },
  {
   "cell_type": "code",
   "execution_count": 22,
   "id": "f6b74950",
   "metadata": {},
   "outputs": [
    {
     "data": {
      "text/plain": [
       "'.jpg'"
      ]
     },
     "execution_count": 22,
     "metadata": {},
     "output_type": "execute_result"
    }
   ],
   "source": [
    "ftitle, fext = os.path.splitext(os.path.basename(\"raw_data/1919/Painting_with_Points.jpg\"))\n",
    "ftitle\n",
    "fext"
   ]
  },
  {
   "cell_type": "code",
   "execution_count": 32,
   "id": "9613cb83",
   "metadata": {},
   "outputs": [
    {
     "name": "stdout",
     "output_type": "stream",
     "text": [
      "processing images in raw_data/1919\n",
      "processing images in raw_data/1920\n",
      "processing images in raw_data/1921\n",
      "processing images in raw_data/1922\n",
      "processing images in raw_data/1923\n",
      "processing images in raw_data/1924\n",
      "processing images in raw_data/1925\n",
      "processing images in raw_data/1926\n",
      "processing images in raw_data/1927\n",
      "processing images in raw_data/1928\n",
      "processing images in raw_data/1929\n",
      "processing images in raw_data/1930\n",
      "processing images in raw_data/1931\n",
      "processing images in raw_data/1932\n",
      "processing images in raw_data/1933\n",
      "processing images in raw_data/1934\n",
      "processing images in raw_data/1935\n",
      "processing images in raw_data/1936\n",
      "processing images in raw_data/1937\n",
      "processing images in raw_data/1938\n",
      "processing images in raw_data/1939\n",
      "processing images in raw_data/1940\n",
      "processing images in raw_data/1941\n",
      "processing images in raw_data/1942\n",
      "processing images in raw_data/1943\n",
      "processing images in raw_data/1944\n"
     ]
    }
   ],
   "source": [
    "for year in range (1919,1945):\n",
    "    #print(year)\n",
    "    folder = \"raw_data/\"+str(year)\n",
    "    print(\"processing images in \" +folder)\n",
    "    files = glob.glob(os.path.join(folder, \"*.*\"))\n",
    "    for f in files:\n",
    "        im = Image.open(f)\n",
    "        im_new = squarify(im).resize((64, 64))\n",
    "        ftitle, fext = os.path.splitext(os.path.basename(f))\n",
    "        savepath = \"data/64/\" + str(year) + \"_\" + ftitle + \".jpg\"\n",
    "        im_new.save(savepath)"
   ]
  }
 ],
 "metadata": {
  "kernelspec": {
   "display_name": "Python 3 (ipykernel)",
   "language": "python",
   "name": "python3"
  },
  "language_info": {
   "codemirror_mode": {
    "name": "ipython",
    "version": 3
   },
   "file_extension": ".py",
   "mimetype": "text/x-python",
   "name": "python",
   "nbconvert_exporter": "python",
   "pygments_lexer": "ipython3",
   "version": "3.10.2"
  }
 },
 "nbformat": 4,
 "nbformat_minor": 5
}
